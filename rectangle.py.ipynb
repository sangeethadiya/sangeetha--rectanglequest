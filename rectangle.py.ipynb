{
 "cells": [
  {
   "cell_type": "markdown",
   "id": "50501089",
   "metadata": {},
   "source": [
    "10. Create a base class rectangle with attributes length and breadth, methods \n",
    "area and perimeter. \n",
    "a. Save the rectangle class as a python file rectangle.py file. \n",
    "b. Open another python script and import the rectangle.py file. \n",
    "c. In the newly created script derive a child class called Parallelepiped \n",
    "class inheriting from the Rectangle class and with a height attribute \n",
    "and another Volume() method to calculate the volume of the \n",
    "Parallelepiped. \n",
    "d. Now create objects for parent class and child class in newly created \n",
    "script and access methods of parent class and child class. \n",
    "(Upload the rectangle.py file and python script of question 10 as \n",
    "separate files in github and share the link Paatshala"
   ]
  },
  {
   "cell_type": "code",
   "execution_count": 1,
   "id": "4b858015",
   "metadata": {},
   "outputs": [
    {
     "name": "stdout",
     "output_type": "stream",
     "text": [
      "The area= 12\n",
      "The Perimeter= 14\n"
     ]
    }
   ],
   "source": [
    "class Rectangle:\n",
    "    def __init__(self,length,breadth):\n",
    "        self.length=length\n",
    "        self.breadth=breadth\n",
    "    def area(self):\n",
    "        print(\"The area=\",self.length*self.breadth)\n",
    "    def perimeter(self):\n",
    "        print(\"The Perimeter=\",2*(self.length+self.breadth))\n",
    "t=Rectangle(3,4)\n",
    "t.area()\n",
    "t.perimeter()"
   ]
  },
  {
   "cell_type": "code",
   "execution_count": null,
   "id": "cee0953f",
   "metadata": {},
   "outputs": [],
   "source": []
  }
 ],
 "metadata": {
  "kernelspec": {
   "display_name": "Python 3 (ipykernel)",
   "language": "python",
   "name": "python3"
  },
  "language_info": {
   "codemirror_mode": {
    "name": "ipython",
    "version": 3
   },
   "file_extension": ".py",
   "mimetype": "text/x-python",
   "name": "python",
   "nbconvert_exporter": "python",
   "pygments_lexer": "ipython3",
   "version": "3.9.13"
  }
 },
 "nbformat": 4,
 "nbformat_minor": 5
}
